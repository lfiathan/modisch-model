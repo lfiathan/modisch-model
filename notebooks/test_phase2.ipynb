{
 "cells": [
  {
   "cell_type": "code",
   "execution_count": 18,
   "id": "0d1b051d",
   "metadata": {},
   "outputs": [],
   "source": [
    "import os\n",
    "import sys\n",
    "import random\n",
    "from ultralytics import YOLO\n",
    "from IPython.display import Image\n",
    "\n",
    "# Add the 'src' directory to the Python path\n",
    "sys.path.append(os.path.abspath(os.path.join('..', 'src')))\n",
    "\n",
    "# Now we can import your config file\n",
    "from config import Config"
   ]
  },
  {
   "cell_type": "code",
   "execution_count": 30,
   "id": "de4438c1",
   "metadata": {},
   "outputs": [
    {
     "name": "stdout",
     "output_type": "stream",
     "text": [
      "Checked model paths:\n",
      "   ../models/weights/best.pt -> MISSING\n",
      "   ../runs/detect/yolov8_phase2_fine/weights/best.pt -> MISSING\n",
      "   runs/detect/yolov8_phase2_fine/weights/best.pt -> OK\n",
      "Using model: ../models/weights/best.pt\n",
      "Using image: /Users/macm4/repositories/Machine Learning Model/modisch-model/notebooks/test/test_pacarku.jpeg\n"
     ]
    }
   ],
   "source": [
    "# --- 1. Define Model Path (robust) ---\n",
    "model_name = 'best.pt'\n",
    "candidate_paths = [\n",
    "    os.path.join('..', 'models', 'weights', model_name),                       # ../models/weights/best.pt\n",
    "    os.path.join('..', Config.MODEL_PHASE2_WEIGHTS),                           # runs/detect/yolov8_phase2_fine/weights/best.pt\n",
    "    Config.MODEL_PHASE2_WEIGHTS,                                               # relative runs/... (may fail depending on CWD)\n",
    "    # Ensure REPO_ROOT is defined if you use this line in config.py\n",
    "    # str(Config.REPO_ROOT / 'models' / 'weights' / model_name)                  # absolute path variant\n",
    "]\n",
    "\n",
    "# Find the first existing model path\n",
    "model_path = next((p for p in candidate_paths if p and os.path.exists(p)), None)\n",
    "\n",
    "print(\"Checked model paths:\")\n",
    "for p in candidate_paths:\n",
    "    # Check existence relative to notebook or use absolute paths if defined\n",
    "    check_path = p if os.path.isabs(p) else os.path.join(os.path.dirname(os.getcwd()), p)\n",
    "    print(\"  \", p, \"->\", \"OK\" if os.path.exists(check_path) else \"MISSING\")\n",
    "\n",
    "\n",
    "if not model_path:\n",
    "    # If using relative path for Config.MODEL_PHASE2_WEIGHTS, adjust the error message or logic\n",
    "    model_path_from_config = os.path.join('..', Config.MODEL_PHASE2_WEIGHTS)\n",
    "    if os.path.exists(model_path_from_config):\n",
    "        model_path = model_path_from_config\n",
    "    else:\n",
    "        raise FileNotFoundError(f\"Model file not found. Checked: {candidate_paths}. Place 'best.pt' in '../models/weights/' or ensure '{model_path_from_config}' exists.\")\n",
    "\n",
    "print(\"Using model:\", model_path)\n",
    "\n",
    "\n",
    "# --- 2. Define Test Image Path ---\n",
    "\n",
    "# --- Option A: Test using a random image from the dataset (Commented out) ---\n",
    "# images_dir = Config.IMAGES_DIR\n",
    "# if not os.path.isdir(images_dir):\n",
    "#     raise FileNotFoundError(f\"Images dir not found: {images_dir}\")\n",
    "# test_image_name = random.choice(os.listdir(images_dir))\n",
    "# image_path = os.path.join(images_dir, test_image_name)\n",
    "# print(\"Using image:\", image_path)\n",
    "\n",
    "# --- Option B: Test using your specific image ---\n",
    "test_image_name = 'test/test_pacarku.jpeg'\n",
    "# Assuming test_salma.jpeg is in the same 'notebooks' folder as this notebook\n",
    "image_path = os.path.abspath(test_image_name) # Use absolute path\n",
    "if not os.path.exists(image_path):\n",
    "    raise FileNotFoundError(f\"Your image not found at {image_path}. Make sure '{test_image_name}' is in the 'notebooks' folder.\")\n",
    "print(\"Using image:\", image_path)"
   ]
  },
  {
   "cell_type": "code",
   "execution_count": 31,
   "id": "4b35033e",
   "metadata": {},
   "outputs": [
    {
     "name": "stdout",
     "output_type": "stream",
     "text": [
      "\n",
      "image 1/1 /Users/macm4/repositories/Machine Learning Model/modisch-model/notebooks/test/test_pacarku.jpeg: 512x288 1 jacket, 1 pants, 24.1ms\n",
      "Speed: 1.7ms preprocess, 24.1ms inference, 0.6ms postprocess per image at shape (1, 3, 512, 288)\n",
      "Results saved to \u001b[1m/Users/macm4/repositories/Machine Learning Model/modisch-model/runs/detect/predict7\u001b[0m\n",
      "Detections: 2\n",
      " 0: bbox=[0.0, 584.9345092773438, 495.9247131347656, 1273.9256591796875], conf=0.491, class=0 (jacket)\n",
      " 1: bbox=[374.59320068359375, 1178.33251953125, 533.6094360351562, 1279.553955078125], conf=0.423, class=2 (pants)\n",
      "Annotated image saved to: /Users/macm4/repositories/Machine Learning Model/modisch-model/runs/detect/predict7/test/test_pacarku.jpeg\n"
     ]
    },
    {
     "ename": "FileNotFoundError",
     "evalue": "[Errno 2] No such file or directory: '/Users/macm4/repositories/Machine Learning Model/modisch-model/runs/detect/predict7/test/test_pacarku.jpeg'",
     "output_type": "error",
     "traceback": [
      "\u001b[0;31m---------------------------------------------------------------------------\u001b[0m",
      "\u001b[0;31mFileNotFoundError\u001b[0m                         Traceback (most recent call last)",
      "Cell \u001b[0;32mIn[31], line 27\u001b[0m\n\u001b[1;32m     24\u001b[0m \u001b[38;5;28mprint\u001b[39m(\u001b[38;5;124m\"\u001b[39m\u001b[38;5;124mAnnotated image saved to:\u001b[39m\u001b[38;5;124m\"\u001b[39m, annotated_path)\n\u001b[1;32m     26\u001b[0m \u001b[38;5;28;01mfrom\u001b[39;00m\u001b[38;5;250m \u001b[39m\u001b[38;5;21;01mIPython\u001b[39;00m\u001b[38;5;21;01m.\u001b[39;00m\u001b[38;5;21;01mdisplay\u001b[39;00m\u001b[38;5;250m \u001b[39m\u001b[38;5;28;01mimport\u001b[39;00m Image, display\n\u001b[0;32m---> 27\u001b[0m display(\u001b[43mImage\u001b[49m\u001b[43m(\u001b[49m\u001b[43mfilename\u001b[49m\u001b[38;5;241;43m=\u001b[39;49m\u001b[43mannotated_path\u001b[49m\u001b[43m)\u001b[49m)\n",
      "File \u001b[0;32m~/repositories/Machine Learning Model/modisch-model/.venv/lib/python3.9/site-packages/IPython/core/display.py:970\u001b[0m, in \u001b[0;36mImage.__init__\u001b[0;34m(self, data, url, filename, format, embed, width, height, retina, unconfined, metadata, alt)\u001b[0m\n\u001b[1;32m    968\u001b[0m \u001b[38;5;28mself\u001b[39m\u001b[38;5;241m.\u001b[39munconfined \u001b[38;5;241m=\u001b[39m unconfined\n\u001b[1;32m    969\u001b[0m \u001b[38;5;28mself\u001b[39m\u001b[38;5;241m.\u001b[39malt \u001b[38;5;241m=\u001b[39m alt\n\u001b[0;32m--> 970\u001b[0m \u001b[38;5;28;43msuper\u001b[39;49m\u001b[43m(\u001b[49m\u001b[43mImage\u001b[49m\u001b[43m,\u001b[49m\u001b[43m \u001b[49m\u001b[38;5;28;43mself\u001b[39;49m\u001b[43m)\u001b[49m\u001b[38;5;241;43m.\u001b[39;49m\u001b[38;5;21;43m__init__\u001b[39;49m\u001b[43m(\u001b[49m\u001b[43mdata\u001b[49m\u001b[38;5;241;43m=\u001b[39;49m\u001b[43mdata\u001b[49m\u001b[43m,\u001b[49m\u001b[43m \u001b[49m\u001b[43murl\u001b[49m\u001b[38;5;241;43m=\u001b[39;49m\u001b[43murl\u001b[49m\u001b[43m,\u001b[49m\u001b[43m \u001b[49m\u001b[43mfilename\u001b[49m\u001b[38;5;241;43m=\u001b[39;49m\u001b[43mfilename\u001b[49m\u001b[43m,\u001b[49m\n\u001b[1;32m    971\u001b[0m \u001b[43m        \u001b[49m\u001b[43mmetadata\u001b[49m\u001b[38;5;241;43m=\u001b[39;49m\u001b[43mmetadata\u001b[49m\u001b[43m)\u001b[49m\n\u001b[1;32m    973\u001b[0m \u001b[38;5;28;01mif\u001b[39;00m \u001b[38;5;28mself\u001b[39m\u001b[38;5;241m.\u001b[39mwidth \u001b[38;5;129;01mis\u001b[39;00m \u001b[38;5;28;01mNone\u001b[39;00m \u001b[38;5;129;01mand\u001b[39;00m \u001b[38;5;28mself\u001b[39m\u001b[38;5;241m.\u001b[39mmetadata\u001b[38;5;241m.\u001b[39mget(\u001b[38;5;124m'\u001b[39m\u001b[38;5;124mwidth\u001b[39m\u001b[38;5;124m'\u001b[39m, {}):\n\u001b[1;32m    974\u001b[0m     \u001b[38;5;28mself\u001b[39m\u001b[38;5;241m.\u001b[39mwidth \u001b[38;5;241m=\u001b[39m metadata[\u001b[38;5;124m'\u001b[39m\u001b[38;5;124mwidth\u001b[39m\u001b[38;5;124m'\u001b[39m]\n",
      "File \u001b[0;32m~/repositories/Machine Learning Model/modisch-model/.venv/lib/python3.9/site-packages/IPython/core/display.py:327\u001b[0m, in \u001b[0;36mDisplayObject.__init__\u001b[0;34m(self, data, url, filename, metadata)\u001b[0m\n\u001b[1;32m    324\u001b[0m \u001b[38;5;28;01melif\u001b[39;00m \u001b[38;5;28mself\u001b[39m\u001b[38;5;241m.\u001b[39mmetadata \u001b[38;5;129;01mis\u001b[39;00m \u001b[38;5;28;01mNone\u001b[39;00m:\n\u001b[1;32m    325\u001b[0m     \u001b[38;5;28mself\u001b[39m\u001b[38;5;241m.\u001b[39mmetadata \u001b[38;5;241m=\u001b[39m {}\n\u001b[0;32m--> 327\u001b[0m \u001b[38;5;28;43mself\u001b[39;49m\u001b[38;5;241;43m.\u001b[39;49m\u001b[43mreload\u001b[49m\u001b[43m(\u001b[49m\u001b[43m)\u001b[49m\n\u001b[1;32m    328\u001b[0m \u001b[38;5;28mself\u001b[39m\u001b[38;5;241m.\u001b[39m_check_data()\n",
      "File \u001b[0;32m~/repositories/Machine Learning Model/modisch-model/.venv/lib/python3.9/site-packages/IPython/core/display.py:1005\u001b[0m, in \u001b[0;36mImage.reload\u001b[0;34m(self)\u001b[0m\n\u001b[1;32m   1003\u001b[0m \u001b[38;5;250m\u001b[39m\u001b[38;5;124;03m\"\"\"Reload the raw data from file or URL.\"\"\"\u001b[39;00m\n\u001b[1;32m   1004\u001b[0m \u001b[38;5;28;01mif\u001b[39;00m \u001b[38;5;28mself\u001b[39m\u001b[38;5;241m.\u001b[39membed:\n\u001b[0;32m-> 1005\u001b[0m     \u001b[38;5;28;43msuper\u001b[39;49m\u001b[43m(\u001b[49m\u001b[43mImage\u001b[49m\u001b[43m,\u001b[49m\u001b[38;5;28;43mself\u001b[39;49m\u001b[43m)\u001b[49m\u001b[38;5;241;43m.\u001b[39;49m\u001b[43mreload\u001b[49m\u001b[43m(\u001b[49m\u001b[43m)\u001b[49m\n\u001b[1;32m   1006\u001b[0m     \u001b[38;5;28;01mif\u001b[39;00m \u001b[38;5;28mself\u001b[39m\u001b[38;5;241m.\u001b[39mretina:\n\u001b[1;32m   1007\u001b[0m         \u001b[38;5;28mself\u001b[39m\u001b[38;5;241m.\u001b[39m_retina_shape()\n",
      "File \u001b[0;32m~/repositories/Machine Learning Model/modisch-model/.venv/lib/python3.9/site-packages/IPython/core/display.py:353\u001b[0m, in \u001b[0;36mDisplayObject.reload\u001b[0;34m(self)\u001b[0m\n\u001b[1;32m    351\u001b[0m \u001b[38;5;28;01mif\u001b[39;00m \u001b[38;5;28mself\u001b[39m\u001b[38;5;241m.\u001b[39mfilename \u001b[38;5;129;01mis\u001b[39;00m \u001b[38;5;129;01mnot\u001b[39;00m \u001b[38;5;28;01mNone\u001b[39;00m:\n\u001b[1;32m    352\u001b[0m     encoding \u001b[38;5;241m=\u001b[39m \u001b[38;5;28;01mNone\u001b[39;00m \u001b[38;5;28;01mif\u001b[39;00m \u001b[38;5;124m\"\u001b[39m\u001b[38;5;124mb\u001b[39m\u001b[38;5;124m\"\u001b[39m \u001b[38;5;129;01min\u001b[39;00m \u001b[38;5;28mself\u001b[39m\u001b[38;5;241m.\u001b[39m_read_flags \u001b[38;5;28;01melse\u001b[39;00m \u001b[38;5;124m\"\u001b[39m\u001b[38;5;124mutf-8\u001b[39m\u001b[38;5;124m\"\u001b[39m\n\u001b[0;32m--> 353\u001b[0m     \u001b[38;5;28;01mwith\u001b[39;00m \u001b[38;5;28;43mopen\u001b[39;49m\u001b[43m(\u001b[49m\u001b[38;5;28;43mself\u001b[39;49m\u001b[38;5;241;43m.\u001b[39;49m\u001b[43mfilename\u001b[49m\u001b[43m,\u001b[49m\u001b[43m \u001b[49m\u001b[38;5;28;43mself\u001b[39;49m\u001b[38;5;241;43m.\u001b[39;49m\u001b[43m_read_flags\u001b[49m\u001b[43m,\u001b[49m\u001b[43m \u001b[49m\u001b[43mencoding\u001b[49m\u001b[38;5;241;43m=\u001b[39;49m\u001b[43mencoding\u001b[49m\u001b[43m)\u001b[49m \u001b[38;5;28;01mas\u001b[39;00m f:\n\u001b[1;32m    354\u001b[0m         \u001b[38;5;28mself\u001b[39m\u001b[38;5;241m.\u001b[39mdata \u001b[38;5;241m=\u001b[39m f\u001b[38;5;241m.\u001b[39mread()\n\u001b[1;32m    355\u001b[0m \u001b[38;5;28;01melif\u001b[39;00m \u001b[38;5;28mself\u001b[39m\u001b[38;5;241m.\u001b[39murl \u001b[38;5;129;01mis\u001b[39;00m \u001b[38;5;129;01mnot\u001b[39;00m \u001b[38;5;28;01mNone\u001b[39;00m:\n\u001b[1;32m    356\u001b[0m     \u001b[38;5;66;03m# Deferred import\u001b[39;00m\n",
      "\u001b[0;31mFileNotFoundError\u001b[0m: [Errno 2] No such file or directory: '/Users/macm4/repositories/Machine Learning Model/modisch-model/runs/detect/predict7/test/test_pacarku.jpeg'"
     ]
    }
   ],
   "source": [
    "\n",
    "# --- 3. Load model and run prediction with debug info ---\n",
    "model = YOLO(model_path)\n",
    "\n",
    "# Lower max_det and explicit conf to avoid NMS/timeouts dropping detections\n",
    "results = model.predict(source=image_path, conf=0.2, iou=0.45, max_det=200, save=True)\n",
    "\n",
    "res = results[0]\n",
    "n_boxes = len(res.boxes)\n",
    "print(f\"Detections: {n_boxes}\")\n",
    "if n_boxes == 0:\n",
    "    print(\"No boxes detected — try lowering conf or checking model weights.\")\n",
    "else:\n",
    "    # print box coords, conf, class id/name\n",
    "    for i, box in enumerate(res.boxes):\n",
    "        xyxy = box.xyxy[0].cpu().numpy()\n",
    "        conf = float(box.conf[0].cpu().numpy()) if hasattr(box, 'conf') else None\n",
    "        cls_id = int(box.cls[0].cpu().numpy()) if hasattr(box, 'cls') else None\n",
    "        cls_name = model.names[cls_id] if cls_id is not None and cls_id in model.names else str(cls_id)\n",
    "        print(f\" {i}: bbox={xyxy.tolist()}, conf={conf:.3f}, class={cls_id} ({cls_name})\")\n",
    "\n",
    "# Show annotated image produced by YOLO\n",
    "annotated_dir = res.save_dir  # directory where YOLO saved annotated image\n",
    "annotated_path = os.path.join(annotated_dir, test_image_name)\n",
    "print(\"Annotated image saved to:\", annotated_path)\n",
    "\n",
    "from IPython.display import Image, display\n",
    "display(Image(filename=annotated_path))"
   ]
  },
  {
   "cell_type": "code",
   "execution_count": null,
   "id": "1aff5f9e",
   "metadata": {},
   "outputs": [],
   "source": []
  }
 ],
 "metadata": {
  "kernelspec": {
   "display_name": ".venv",
   "language": "python",
   "name": "python3"
  },
  "language_info": {
   "codemirror_mode": {
    "name": "ipython",
    "version": 3
   },
   "file_extension": ".py",
   "mimetype": "text/x-python",
   "name": "python",
   "nbconvert_exporter": "python",
   "pygments_lexer": "ipython3",
   "version": "3.9.6"
  }
 },
 "nbformat": 4,
 "nbformat_minor": 5
}
